{
 "cells": [
  {
   "cell_type": "code",
   "execution_count": 13,
   "metadata": {
    "ExecuteTime": {
     "end_time": "2020-01-06T21:44:56.265449Z",
     "start_time": "2020-01-06T21:44:56.246370Z"
    }
   },
   "outputs": [],
   "source": [
    "import asyncio\n",
    "from io import BytesIO\n",
    "import zipfile\n",
    "\n",
    "from aiohttp import ClientSession"
   ]
  },
  {
   "cell_type": "code",
   "execution_count": 20,
   "metadata": {
    "ExecuteTime": {
     "end_time": "2020-01-06T21:46:39.385648Z",
     "start_time": "2020-01-06T21:46:36.175893Z"
    }
   },
   "outputs": [
    {
     "name": "stderr",
     "output_type": "stream",
     "text": [
      "Unclosed connection\n",
      "client_connection: Connection<ConnectionKey(host='www.google.com', port=443, is_ssl=True, ssl=None, proxy=None, proxy_auth=None, proxy_headers_hash=None)>\n"
     ]
    },
    {
     "name": "stdout",
     "output_type": "stream",
     "text": [
      "<aiohttp.client.ClientSession object at 0x10f4152d0>\n",
      "<StreamReader 2652 bytes>\n"
     ]
    }
   ],
   "source": [
    "url = 'http://compbio.cs.toronto.edu/SNF/SNF/Software_files/Breast.zip'\n",
    "\n",
    "async with ClientSession() as session:\n",
    "    print(session)\n",
    "    x = await session.request(method=\"GET\", url=url)\n",
    "    print(x.content)\n",
    "#     print(BytesIO(x.content.read()))\n",
    "    zip_file = zipfile.ZipFile(BytesIO(await x.content.read()))"
   ]
  },
  {
   "cell_type": "code",
   "execution_count": 31,
   "metadata": {
    "ExecuteTime": {
     "end_time": "2020-01-06T21:50:16.508647Z",
     "start_time": "2020-01-06T21:50:16.491763Z"
    }
   },
   "outputs": [
    {
     "data": {
      "text/plain": [
       "RequestInfo(url=URL('http://compbio.cs.toronto.edu/SNF/SNF/Software_files/Breast.zip'), method='GET', headers=<CIMultiDictProxy('Host': 'compbio.cs.toronto.edu', 'Accept': '*/*', 'Accept-Encoding': 'gzip, deflate', 'User-Agent': 'Python/3.7 aiohttp/3.6.2')>, real_url=URL('http://compbio.cs.toronto.edu/SNF/SNF/Software_files/Breast.zip'))"
      ]
     },
     "execution_count": 31,
     "metadata": {},
     "output_type": "execute_result"
    }
   ],
   "source": [
    "x.request_info"
   ]
  },
  {
   "cell_type": "code",
   "execution_count": 24,
   "metadata": {
    "ExecuteTime": {
     "end_time": "2020-01-06T21:47:20.947092Z",
     "start_time": "2020-01-06T21:47:20.881701Z"
    }
   },
   "outputs": [],
   "source": [
    "zip_file.extractall?"
   ]
  },
  {
   "cell_type": "code",
   "execution_count": 10,
   "metadata": {
    "ExecuteTime": {
     "end_time": "2020-01-06T21:34:40.803480Z",
     "start_time": "2020-01-06T21:34:40.795104Z"
    }
   },
   "outputs": [
    {
     "data": {
      "text/plain": [
       "<StreamReader 3032 bytes>"
      ]
     },
     "execution_count": 10,
     "metadata": {},
     "output_type": "execute_result"
    }
   ],
   "source": [
    "x.content"
   ]
  },
  {
   "cell_type": "code",
   "execution_count": null,
   "metadata": {},
   "outputs": [],
   "source": [
    "async def get_one(url):\n",
    "    async with ClientSession() as session:\n",
    "        resp = await session.request(method=\"GET\", url=url)\n",
    "        \n"
   ]
  },
  {
   "cell_type": "code",
   "execution_count": 2,
   "metadata": {
    "ExecuteTime": {
     "end_time": "2020-01-06T21:27:16.773519Z",
     "start_time": "2020-01-06T21:27:16.762016Z"
    }
   },
   "outputs": [
    {
     "data": {
      "text/plain": [
       "['http://compbio.cs.toronto.edu/SNF/SNF/Software_files/GBM.zip',\n",
       " 'http://compbio.cs.toronto.edu/SNF/SNF/Software_files/Breast.zip',\n",
       " 'http://compbio.cs.toronto.edu/SNF/SNF/Software_files/Colon.zip',\n",
       " 'http://compbio.cs.toronto.edu/SNF/SNF/Software_files/Kidney.zip',\n",
       " 'http://compbio.cs.toronto.edu/SNF/SNF/Software_files/Lung.zip']"
      ]
     },
     "execution_count": 2,
     "metadata": {},
     "output_type": "execute_result"
    }
   ],
   "source": [
    "urls = list(\n",
    "    f\"http://compbio.cs.toronto.edu/SNF/SNF/Software_files/{item}.zip\"\n",
    "    for item in (\"GBM\", \"Breast\", \"Colon\", \"Kidney\", \"Lung\"))\n",
    "urls"
   ]
  },
  {
   "cell_type": "code",
   "execution_count": null,
   "metadata": {},
   "outputs": [],
   "source": [
    "async def fetch(url, session):\n",
    "    resp = await session.request(method=\"GET\", url=url)\n",
    "    resp.raise_for_status()\n",
    "    html = await resp.text()\n",
    "    return html\n",
    "\n",
    "\n",
    "async def get_urls(urls):\n",
    "    async with ClientSession() as session:\n",
    "        tasks = (\n",
    "            fetch(url, session) \n",
    "            for url in urls)\n",
    "        await asyncio.gather(*tasks)"
   ]
  },
  {
   "cell_type": "code",
   "execution_count": null,
   "metadata": {},
   "outputs": [],
   "source": [
    "async def download_urls_to_folder(urls, folder):\n",
    "    async with ClientSession() as session:\n",
    "        tasks = []\n",
    "        for url in urls:\n",
    "            tasks.append(\n",
    "                write_one(file=file, url=url, session=session, **kwargs)\n",
    "            )\n",
    "        await asyncio.gather(*tasks)\n",
    "    return\n",
    "\n",
    "# urls = [\n",
    "#     \"http://compbio.cs.toronto.edu/SNF/SNF/Software_files/GBM.zip\",\n",
    "#     \"http://compbio.cs.toronto.edu/SNF/SNF/Software_files/Breast.zip\",\n",
    "# ]\n",
    "\n",
    "asyncio.run(download_urls_to_folder(urls, \"../data\"))\n",
    "\n"
   ]
  }
 ],
 "metadata": {
  "kernelspec": {
   "display_name": "Python 3",
   "language": "python",
   "name": "python3"
  },
  "language_info": {
   "codemirror_mode": {
    "name": "ipython",
    "version": 3
   },
   "file_extension": ".py",
   "mimetype": "text/x-python",
   "name": "python",
   "nbconvert_exporter": "python",
   "pygments_lexer": "ipython3",
   "version": "3.7.6"
  },
  "varInspector": {
   "cols": {
    "lenName": 16,
    "lenType": 16,
    "lenVar": 40
   },
   "kernels_config": {
    "python": {
     "delete_cmd_postfix": "",
     "delete_cmd_prefix": "del ",
     "library": "var_list.py",
     "varRefreshCmd": "print(var_dic_list())"
    },
    "r": {
     "delete_cmd_postfix": ") ",
     "delete_cmd_prefix": "rm(",
     "library": "var_list.r",
     "varRefreshCmd": "cat(var_dic_list()) "
    }
   },
   "types_to_exclude": [
    "module",
    "function",
    "builtin_function_or_method",
    "instance",
    "_Feature"
   ],
   "window_display": false
  }
 },
 "nbformat": 4,
 "nbformat_minor": 2
}
